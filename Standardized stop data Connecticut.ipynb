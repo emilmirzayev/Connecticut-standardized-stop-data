{
 "cells": [
  {
   "cell_type": "markdown",
   "metadata": {
    "collapsed": true
   },
   "source": [
    "It is always unpleasant when police stop you. Especially when you are late for something, have tons of things to do and etc. I don't like it either. Yet, I believe that rules are for everyone.\n",
    "Long cut short, this time I will look at the data provided by Stanford University (https://openpolicing.stanford.edu/data/) about stop data in Connecticut covering 18 months starting from October 2013.\n",
    "Features are self-explanatory.\n",
    "I first analyze some aspects about stops in general, drivers, and reasons of stopping. Later, I build a prediction model trying to predict the possible outcome of a driver being pulled over. Let's start!"
   ]
  },
  {
   "cell_type": "code",
   "execution_count": 1,
   "metadata": {
    "collapsed": true
   },
   "outputs": [],
   "source": [
    "import pandas as pd                                #Working with csv, xls and other type of data files\n",
    "import numpy as np                                 #Working with calculus\n",
    "import matplotlib.pyplot as plt                    #Plotting library, similar to Matlab's\n",
    "import seaborn as sns                              #Simplified visualization library built on Matplotlib\n",
    "\n",
    "plt.rcParams['figure.figsize'] = (12,10)\n",
    "\n",
    "import warnings                                    #Supress warnings\n",
    "warnings.filterwarnings(\"ignore\")"
   ]
  },
  {
   "cell_type": "code",
   "execution_count": 2,
   "metadata": {},
   "outputs": [],
   "source": [
    "data = pd.read_csv(\"CT_cleaned.csv\")"
   ]
  },
  {
   "cell_type": "code",
   "execution_count": 3,
   "metadata": {},
   "outputs": [
    {
     "data": {
      "text/html": [
       "<div>\n",
       "<table border=\"1\" class=\"dataframe\">\n",
       "  <thead>\n",
       "    <tr style=\"text-align: right;\">\n",
       "      <th></th>\n",
       "      <th>id</th>\n",
       "      <th>state</th>\n",
       "      <th>stop_date</th>\n",
       "      <th>stop_time</th>\n",
       "      <th>location_raw</th>\n",
       "      <th>county_name</th>\n",
       "      <th>county_fips</th>\n",
       "      <th>fine_grained_location</th>\n",
       "      <th>police_department</th>\n",
       "      <th>driver_gender</th>\n",
       "      <th>...</th>\n",
       "      <th>violation_raw</th>\n",
       "      <th>violation</th>\n",
       "      <th>search_conducted</th>\n",
       "      <th>search_type_raw</th>\n",
       "      <th>search_type</th>\n",
       "      <th>contraband_found</th>\n",
       "      <th>stop_outcome</th>\n",
       "      <th>is_arrested</th>\n",
       "      <th>officer_id</th>\n",
       "      <th>stop_duration</th>\n",
       "    </tr>\n",
       "  </thead>\n",
       "  <tbody>\n",
       "    <tr>\n",
       "      <th>0</th>\n",
       "      <td>CT-2013-00001</td>\n",
       "      <td>CT</td>\n",
       "      <td>2013-10-01</td>\n",
       "      <td>00:01</td>\n",
       "      <td>westport</td>\n",
       "      <td>Fairfield County</td>\n",
       "      <td>9001.0</td>\n",
       "      <td>00000 N I 95 (WESTPORT, T158) X 18 LL</td>\n",
       "      <td>State Police</td>\n",
       "      <td>F</td>\n",
       "      <td>...</td>\n",
       "      <td>Speed Related</td>\n",
       "      <td>Speeding</td>\n",
       "      <td>False</td>\n",
       "      <td>NaN</td>\n",
       "      <td>NaN</td>\n",
       "      <td>False</td>\n",
       "      <td>Ticket</td>\n",
       "      <td>False</td>\n",
       "      <td>1000002754</td>\n",
       "      <td>1-15 min</td>\n",
       "    </tr>\n",
       "    <tr>\n",
       "      <th>1</th>\n",
       "      <td>CT-2013-00002</td>\n",
       "      <td>CT</td>\n",
       "      <td>2013-10-01</td>\n",
       "      <td>00:02</td>\n",
       "      <td>mansfield</td>\n",
       "      <td>Tolland County</td>\n",
       "      <td>9013.0</td>\n",
       "      <td>rte 195 storrs</td>\n",
       "      <td>State Police</td>\n",
       "      <td>M</td>\n",
       "      <td>...</td>\n",
       "      <td>Moving Violation</td>\n",
       "      <td>Moving violation</td>\n",
       "      <td>False</td>\n",
       "      <td>NaN</td>\n",
       "      <td>NaN</td>\n",
       "      <td>False</td>\n",
       "      <td>Verbal Warning</td>\n",
       "      <td>False</td>\n",
       "      <td>1000001903</td>\n",
       "      <td>1-15 min</td>\n",
       "    </tr>\n",
       "    <tr>\n",
       "      <th>2</th>\n",
       "      <td>CT-2013-00003</td>\n",
       "      <td>CT</td>\n",
       "      <td>2013-10-01</td>\n",
       "      <td>00:07</td>\n",
       "      <td>franklin</td>\n",
       "      <td>New London County</td>\n",
       "      <td>9011.0</td>\n",
       "      <td>Rt 32/whippoorwill</td>\n",
       "      <td>State Police</td>\n",
       "      <td>M</td>\n",
       "      <td>...</td>\n",
       "      <td>Speed Related</td>\n",
       "      <td>Speeding</td>\n",
       "      <td>False</td>\n",
       "      <td>NaN</td>\n",
       "      <td>NaN</td>\n",
       "      <td>False</td>\n",
       "      <td>Ticket</td>\n",
       "      <td>False</td>\n",
       "      <td>1000002711</td>\n",
       "      <td>1-15 min</td>\n",
       "    </tr>\n",
       "  </tbody>\n",
       "</table>\n",
       "<p>3 rows × 24 columns</p>\n",
       "</div>"
      ],
      "text/plain": [
       "              id state   stop_date stop_time location_raw        county_name  \\\n",
       "0  CT-2013-00001    CT  2013-10-01     00:01     westport   Fairfield County   \n",
       "1  CT-2013-00002    CT  2013-10-01     00:02    mansfield     Tolland County   \n",
       "2  CT-2013-00003    CT  2013-10-01     00:07     franklin  New London County   \n",
       "\n",
       "   county_fips                  fine_grained_location police_department  \\\n",
       "0       9001.0  00000 N I 95 (WESTPORT, T158) X 18 LL      State Police   \n",
       "1       9013.0                         rte 195 storrs      State Police   \n",
       "2       9011.0                     Rt 32/whippoorwill      State Police   \n",
       "\n",
       "  driver_gender      ...          violation_raw         violation  \\\n",
       "0             F      ...          Speed Related          Speeding   \n",
       "1             M      ...       Moving Violation  Moving violation   \n",
       "2             M      ...          Speed Related          Speeding   \n",
       "\n",
       "  search_conducted search_type_raw search_type contraband_found  \\\n",
       "0            False             NaN         NaN            False   \n",
       "1            False             NaN         NaN            False   \n",
       "2            False             NaN         NaN            False   \n",
       "\n",
       "     stop_outcome is_arrested  officer_id stop_duration  \n",
       "0          Ticket       False  1000002754      1-15 min  \n",
       "1  Verbal Warning       False  1000001903      1-15 min  \n",
       "2          Ticket       False  1000002711      1-15 min  \n",
       "\n",
       "[3 rows x 24 columns]"
      ]
     },
     "execution_count": 3,
     "metadata": {},
     "output_type": "execute_result"
    }
   ],
   "source": [
    "data.head(3)"
   ]
  },
  {
   "cell_type": "code",
   "execution_count": 4,
   "metadata": {},
   "outputs": [
    {
     "name": "stdout",
     "output_type": "stream",
     "text": [
      "<class 'pandas.core.frame.DataFrame'>\n",
      "RangeIndex: 318669 entries, 0 to 318668\n",
      "Data columns (total 24 columns):\n",
      "id                       318669 non-null object\n",
      "state                    318669 non-null object\n",
      "stop_date                318669 non-null object\n",
      "stop_time                318447 non-null object\n",
      "location_raw             318669 non-null object\n",
      "county_name              318627 non-null object\n",
      "county_fips              318627 non-null float64\n",
      "fine_grained_location    318021 non-null object\n",
      "police_department        318669 non-null object\n",
      "driver_gender            318669 non-null object\n",
      "driver_age_raw           318669 non-null int64\n",
      "driver_age               318395 non-null float64\n",
      "driver_race_raw          318669 non-null object\n",
      "driver_race              318669 non-null object\n",
      "violation_raw            318669 non-null object\n",
      "violation                318669 non-null object\n",
      "search_conducted         318669 non-null bool\n",
      "search_type_raw          4846 non-null object\n",
      "search_type              4846 non-null object\n",
      "contraband_found         318669 non-null bool\n",
      "stop_outcome             313313 non-null object\n",
      "is_arrested              313313 non-null object\n",
      "officer_id               318669 non-null object\n",
      "stop_duration            318669 non-null object\n",
      "dtypes: bool(2), float64(2), int64(1), object(19)\n",
      "memory usage: 54.1+ MB\n"
     ]
    }
   ],
   "source": [
    "data.info()"
   ]
  },
  {
   "cell_type": "markdown",
   "metadata": {},
   "source": [
    "Looks like we our data is pretty \"dirty\". Before doing any analysis, it is important to clean it"
   ]
  },
  {
   "cell_type": "markdown",
   "metadata": {},
   "source": [
    "# Data cleansing"
   ]
  },
  {
   "cell_type": "code",
   "execution_count": 5,
   "metadata": {},
   "outputs": [
    {
     "data": {
      "text/html": [
       "<div>\n",
       "<table border=\"1\" class=\"dataframe\">\n",
       "  <thead>\n",
       "    <tr style=\"text-align: right;\">\n",
       "      <th></th>\n",
       "      <th>stop_date</th>\n",
       "      <th>stop_time</th>\n",
       "    </tr>\n",
       "  </thead>\n",
       "  <tbody>\n",
       "    <tr>\n",
       "      <th>0</th>\n",
       "      <td>2013-10-01</td>\n",
       "      <td>00:01</td>\n",
       "    </tr>\n",
       "    <tr>\n",
       "      <th>1</th>\n",
       "      <td>2013-10-01</td>\n",
       "      <td>00:02</td>\n",
       "    </tr>\n",
       "    <tr>\n",
       "      <th>2</th>\n",
       "      <td>2013-10-01</td>\n",
       "      <td>00:07</td>\n",
       "    </tr>\n",
       "    <tr>\n",
       "      <th>3</th>\n",
       "      <td>2013-10-01</td>\n",
       "      <td>00:10</td>\n",
       "    </tr>\n",
       "    <tr>\n",
       "      <th>4</th>\n",
       "      <td>2013-10-01</td>\n",
       "      <td>00:10</td>\n",
       "    </tr>\n",
       "    <tr>\n",
       "      <th>5</th>\n",
       "      <td>2013-10-01</td>\n",
       "      <td>00:10</td>\n",
       "    </tr>\n",
       "  </tbody>\n",
       "</table>\n",
       "</div>"
      ],
      "text/plain": [
       "    stop_date stop_time\n",
       "0  2013-10-01     00:01\n",
       "1  2013-10-01     00:02\n",
       "2  2013-10-01     00:07\n",
       "3  2013-10-01     00:10\n",
       "4  2013-10-01     00:10\n",
       "5  2013-10-01     00:10"
      ]
     },
     "execution_count": 5,
     "metadata": {},
     "output_type": "execute_result"
    }
   ],
   "source": [
    "data.loc[0:5, [\"stop_date\", \"stop_time\"]]"
   ]
  },
  {
   "cell_type": "markdown",
   "metadata": {},
   "source": [
    "First of all, a proper Time data is needed. I will make it now"
   ]
  },
  {
   "cell_type": "code",
   "execution_count": 6,
   "metadata": {
    "collapsed": true
   },
   "outputs": [],
   "source": [
    "data[\"Time\"] = pd.to_datetime(data[\"stop_date\"] + \" \" + data[\"stop_time\"])"
   ]
  },
  {
   "cell_type": "code",
   "execution_count": 7,
   "metadata": {},
   "outputs": [
    {
     "data": {
      "text/plain": [
       "Index(['id', 'state', 'stop_date', 'stop_time', 'location_raw', 'county_name',\n",
       "       'county_fips', 'fine_grained_location', 'police_department',\n",
       "       'driver_gender', 'driver_age_raw', 'driver_age', 'driver_race_raw',\n",
       "       'driver_race', 'violation_raw', 'violation', 'search_conducted',\n",
       "       'search_type_raw', 'search_type', 'contraband_found', 'stop_outcome',\n",
       "       'is_arrested', 'officer_id', 'stop_duration', 'Time'],\n",
       "      dtype='object')"
      ]
     },
     "execution_count": 7,
     "metadata": {},
     "output_type": "execute_result"
    }
   ],
   "source": [
    "data.columns"
   ]
  },
  {
   "cell_type": "code",
   "execution_count": 8,
   "metadata": {
    "collapsed": true
   },
   "outputs": [],
   "source": [
    "data.drop(['id','state','location_raw',\n",
    "           'stop_date', 'stop_time',\n",
    "           'fine_grained_location','driver_age',\n",
    "           'driver_race_raw','violation_raw',\n",
    "          'officer_id','police_department','county_fips','search_type_raw'], axis = 1, inplace = True)"
   ]
  },
  {
   "cell_type": "code",
   "execution_count": 9,
   "metadata": {},
   "outputs": [
    {
     "name": "stdout",
     "output_type": "stream",
     "text": [
      "<class 'pandas.core.frame.DataFrame'>\n",
      "RangeIndex: 318669 entries, 0 to 318668\n",
      "Data columns (total 12 columns):\n",
      "county_name         318627 non-null object\n",
      "driver_gender       318669 non-null object\n",
      "driver_age_raw      318669 non-null int64\n",
      "driver_race         318669 non-null object\n",
      "violation           318669 non-null object\n",
      "search_conducted    318669 non-null bool\n",
      "search_type         4846 non-null object\n",
      "contraband_found    318669 non-null bool\n",
      "stop_outcome        313313 non-null object\n",
      "is_arrested         313313 non-null object\n",
      "stop_duration       318669 non-null object\n",
      "Time                318447 non-null datetime64[ns]\n",
      "dtypes: bool(2), datetime64[ns](1), int64(1), object(8)\n",
      "memory usage: 24.9+ MB\n"
     ]
    }
   ],
   "source": [
    "data.info()"
   ]
  },
  {
   "cell_type": "markdown",
   "metadata": {},
   "source": [
    "It would be nice, having Time column at the front of the table"
   ]
  },
  {
   "cell_type": "code",
   "execution_count": 10,
   "metadata": {
    "collapsed": true
   },
   "outputs": [],
   "source": [
    "time = data['Time']\n",
    "data.drop(labels=['Time'], axis=1,inplace = True)\n",
    "data.insert(0, 'Time', time)"
   ]
  },
  {
   "cell_type": "code",
   "execution_count": 11,
   "metadata": {},
   "outputs": [
    {
     "data": {
      "text/html": [
       "<div>\n",
       "<table border=\"1\" class=\"dataframe\">\n",
       "  <thead>\n",
       "    <tr style=\"text-align: right;\">\n",
       "      <th></th>\n",
       "      <th>Time</th>\n",
       "      <th>county_name</th>\n",
       "      <th>driver_gender</th>\n",
       "      <th>driver_age_raw</th>\n",
       "      <th>driver_race</th>\n",
       "      <th>violation</th>\n",
       "      <th>search_conducted</th>\n",
       "      <th>search_type</th>\n",
       "      <th>contraband_found</th>\n",
       "      <th>stop_outcome</th>\n",
       "      <th>is_arrested</th>\n",
       "      <th>stop_duration</th>\n",
       "    </tr>\n",
       "  </thead>\n",
       "  <tbody>\n",
       "    <tr>\n",
       "      <th>0</th>\n",
       "      <td>2013-10-01 00:01:00</td>\n",
       "      <td>Fairfield County</td>\n",
       "      <td>F</td>\n",
       "      <td>69</td>\n",
       "      <td>Black</td>\n",
       "      <td>Speeding</td>\n",
       "      <td>False</td>\n",
       "      <td>NaN</td>\n",
       "      <td>False</td>\n",
       "      <td>Ticket</td>\n",
       "      <td>False</td>\n",
       "      <td>1-15 min</td>\n",
       "    </tr>\n",
       "    <tr>\n",
       "      <th>1</th>\n",
       "      <td>2013-10-01 00:02:00</td>\n",
       "      <td>Tolland County</td>\n",
       "      <td>M</td>\n",
       "      <td>20</td>\n",
       "      <td>White</td>\n",
       "      <td>Moving violation</td>\n",
       "      <td>False</td>\n",
       "      <td>NaN</td>\n",
       "      <td>False</td>\n",
       "      <td>Verbal Warning</td>\n",
       "      <td>False</td>\n",
       "      <td>1-15 min</td>\n",
       "    </tr>\n",
       "    <tr>\n",
       "      <th>2</th>\n",
       "      <td>2013-10-01 00:07:00</td>\n",
       "      <td>New London County</td>\n",
       "      <td>M</td>\n",
       "      <td>34</td>\n",
       "      <td>Hispanic</td>\n",
       "      <td>Speeding</td>\n",
       "      <td>False</td>\n",
       "      <td>NaN</td>\n",
       "      <td>False</td>\n",
       "      <td>Ticket</td>\n",
       "      <td>False</td>\n",
       "      <td>1-15 min</td>\n",
       "    </tr>\n",
       "  </tbody>\n",
       "</table>\n",
       "</div>"
      ],
      "text/plain": [
       "                 Time        county_name driver_gender  driver_age_raw  \\\n",
       "0 2013-10-01 00:01:00   Fairfield County             F              69   \n",
       "1 2013-10-01 00:02:00     Tolland County             M              20   \n",
       "2 2013-10-01 00:07:00  New London County             M              34   \n",
       "\n",
       "  driver_race         violation search_conducted search_type contraband_found  \\\n",
       "0       Black          Speeding            False         NaN            False   \n",
       "1       White  Moving violation            False         NaN            False   \n",
       "2    Hispanic          Speeding            False         NaN            False   \n",
       "\n",
       "     stop_outcome is_arrested stop_duration  \n",
       "0          Ticket       False      1-15 min  \n",
       "1  Verbal Warning       False      1-15 min  \n",
       "2          Ticket       False      1-15 min  "
      ]
     },
     "execution_count": 11,
     "metadata": {},
     "output_type": "execute_result"
    }
   ],
   "source": [
    "data.head(3)"
   ]
  },
  {
   "cell_type": "markdown",
   "metadata": {},
   "source": [
    "Let's remove all NaT, or NaN values from our Time column before we proceed further\n"
   ]
  },
  {
   "cell_type": "code",
   "execution_count": 12,
   "metadata": {
    "collapsed": true
   },
   "outputs": [],
   "source": [
    "data = data[pd.notnull(data['Time'])]"
   ]
  },
  {
   "cell_type": "code",
   "execution_count": 13,
   "metadata": {},
   "outputs": [
    {
     "name": "stdout",
     "output_type": "stream",
     "text": [
      "2013-10-01 00:01:00\n",
      "2015-03-31 12:59:00\n"
     ]
    }
   ],
   "source": [
    "print(data[\"Time\"].min())\n",
    "print(data[\"Time\"].max())"
   ]
  },
  {
   "cell_type": "markdown",
   "metadata": {},
   "source": [
    "We see that, our data is covering 18 months"
   ]
  },
  {
   "cell_type": "markdown",
   "metadata": {},
   "source": [
    "Let's create some more additional columns"
   ]
  },
  {
   "cell_type": "code",
   "execution_count": 14,
   "metadata": {
    "collapsed": true
   },
   "outputs": [],
   "source": [
    "data[\"Month\"] = data[\"Time\"].apply(lambda x: x.strftime('%B'))             #'%B' stands for Month name\n",
    "data[\"Weekday\"] = data[\"Time\"].apply(lambda x: x.strftime('%A'))           #'%A' stands for Weekday name     \n",
    "data[\"Day of the Week\"] = data[\"Time\"].apply(lambda x: x.weekday())\n",
    "data[\"Hour\"] = data[\"Time\"].apply(lambda x: x.hour)"
   ]
  },
  {
   "cell_type": "code",
   "execution_count": 15,
   "metadata": {},
   "outputs": [
    {
     "data": {
      "text/plain": [
       "array([nan, 'Consent', 'Other', 'Inventory'], dtype=object)"
      ]
     },
     "execution_count": 15,
     "metadata": {},
     "output_type": "execute_result"
    }
   ],
   "source": [
    "data.search_type.unique()"
   ]
  },
  {
   "cell_type": "markdown",
   "metadata": {},
   "source": [
    "We can also delete search_type column, as it does not give us much information"
   ]
  },
  {
   "cell_type": "code",
   "execution_count": 16,
   "metadata": {
    "collapsed": true
   },
   "outputs": [],
   "source": [
    "data.drop(\"search_type\", axis = 1, inplace = True)"
   ]
  },
  {
   "cell_type": "markdown",
   "metadata": {},
   "source": [
    "# The Comicon effect "
   ]
  },
  {
   "cell_type": "markdown",
   "metadata": {},
   "source": [
    "After cleaning the data, I can start some exploratory analysis. Let's first take a look at timeline of stops."
   ]
  },
  {
   "cell_type": "code",
   "execution_count": 17,
   "metadata": {},
   "outputs": [
    {
     "data": {
      "image/png": "[encoded data removed]",
      "text/plain": [
       "<matplotlib.figure.Figure at 0x1c2c521bd68>"
      ]
     },
     "metadata": {},
     "output_type": "display_data"
    }
   ],
   "source": [
    "sns.countplot(data[\"Month\"], color=\"lightsteelblue\")\n",
    "plt.title(\"Counts of monthly police stops in Connecticut, 2013-2015\", fontsize = 20)\n",
    "plt.xlabel(\"Month\", fontsize = 15)\n",
    "plt.ylabel(\"Stop counts\", fontsize = 15)\n",
    "plt.tick_params(labelsize = 10)\n",
    "plt.show()"
   ]
  },
  {
   "cell_type": "markdown",
   "metadata": {},
   "source": [
    "For some reason, before March, we observe a decrease, however, in March there is a sharp increase. Then, we see counts stabilize. What is the reason? \n",
    "Of course, Comicon! I found that, every year in March, there is a big Comicon event in Connecticut. In March 2014, it was 5th annual event which had more than 13k attendants also from neighbouring states."
   ]
  },
  {
   "cell_type": "code",
   "execution_count": 18,
   "metadata": {},
   "outputs": [
    {
     "data": {
      "image/jpeg": "[encoded data removed]",
      "text/plain": [
       "<IPython.core.display.Image object>"
      ]
     },
     "execution_count": 18,
     "metadata": {},
     "output_type": "execute_result"
    }
   ],
   "source": [
    "from IPython.display import Image\n",
    "Image(filename='Comiconn 2014.JPG')"
   ]
  },
  {
   "cell_type": "markdown",
   "metadata": {},
   "source": [
    "# Pulling over in the mornings"
   ]
  },
  {
   "cell_type": "code",
   "execution_count": 19,
   "metadata": {},
   "outputs": [
    {
     "data": {
      "image/png": "[encoded data removed]",
      "text/plain": [
       "<matplotlib.figure.Figure at 0x1c2dc10b358>"
      ]
     },
     "metadata": {},
     "output_type": "display_data"
    }
   ],
   "source": [
    "sns.countplot(data[\"Hour\"], color=\"lightsteelblue\")\n",
    "plt.title(\"Counts of hourly police stops in Connecticut, 2013-2015\", fontsize = 20)\n",
    "plt.xlabel(\"Hour\", fontsize = 15)\n",
    "plt.ylabel(\"Stop counts\", fontsize = 15)\n",
    "plt.tick_params(labelsize = 10)\n",
    "\n",
    "plt.show()"
   ]
  },
  {
   "cell_type": "markdown",
   "metadata": {},
   "source": [
    "In the mornings people are stopped more. Late for work? Let's see whether or not Speeding is the main reason during those times."
   ]
  },
  {
   "cell_type": "code",
   "execution_count": 20,
   "metadata": {},
   "outputs": [
    {
     "data": {
      "text/plain": [
       "Speeding               37875\n",
       "Other                  32830\n",
       "Registration/plates    14134\n",
       "Name: violation, dtype: int64"
      ]
     },
     "execution_count": 20,
     "metadata": {},
     "output_type": "execute_result"
    }
   ],
   "source": [
    "#Top 3 stop reasons in the mornings\n",
    "data[data[\"Hour\"].apply(lambda x: x in range(6,12))][\"violation\"].value_counts().head(3)"
   ]
  },
  {
   "cell_type": "code",
   "execution_count": 21,
   "metadata": {},
   "outputs": [
    {
     "data": {
      "text/plain": [
       "Speeding               62911\n",
       "Other                  54794\n",
       "Registration/plates    23636\n",
       "Name: violation, dtype: int64"
      ]
     },
     "execution_count": 21,
     "metadata": {},
     "output_type": "execute_result"
    }
   ],
   "source": [
    "#Top 3 stop reasons after mornings\n",
    "data[data[\"Hour\"].apply(lambda x: x not in range(6,12))][\"violation\"].value_counts().head(3)"
   ]
  },
  {
   "cell_type": "markdown",
   "metadata": {},
   "source": [
    "Nothing interesting. Yet. What about percentage?"
   ]
  },
  {
   "cell_type": "code",
   "execution_count": 22,
   "metadata": {
    "collapsed": true
   },
   "outputs": [],
   "source": [
    "total_morning_stops = len(data[data[\"Hour\"].apply(lambda x: x in range(6,12))])\n",
    "total_other_stops = len(data[data[\"Hour\"].apply(lambda x: x not in range(6,12))])"
   ]
  },
  {
   "cell_type": "code",
   "execution_count": 23,
   "metadata": {},
   "outputs": [
    {
     "name": "stdout",
     "output_type": "stream",
     "text": [
      "The percentage of speeding being the main reason during mornings is 32.8305811988038\n",
      "The percentage of speeding being the main reason after mornings is 18.65010192926995\n"
     ]
    }
   ],
   "source": [
    "print(\"The percentage of speeding being the main reason during mornings is\" +\" \" + str(37875/total_morning_stops*100))\n",
    "print(\"The percentage of speeding being the main reason after mornings is\" +\" \" + str(37875/total_other_stops*100))"
   ]
  },
  {
   "cell_type": "markdown",
   "metadata": {},
   "source": [
    "Based on this result, we may clearly state that being late to work is the main reason being pulled over in the mornings"
   ]
  },
  {
   "cell_type": "markdown",
   "metadata": {},
   "source": [
    "# Gender and race issues"
   ]
  },
  {
   "cell_type": "markdown",
   "metadata": {},
   "source": [
    "What about drivers themselves? Gender, race and etc. Men vs women? Black vs asian? Let's have a look."
   ]
  },
  {
   "cell_type": "code",
   "execution_count": 24,
   "metadata": {},
   "outputs": [
    {
     "data": {
      "image/png": "[encoded data removed]",
      "text/plain": [
       "<matplotlib.figure.Figure at 0x1c2d10b60b8>"
      ]
     },
     "metadata": {},
     "output_type": "display_data"
    }
   ],
   "source": [
    "sns.distplot(data.driver_age_raw, color=\"lightsteelblue\", kde= False)\n",
    "plt.title(\"Distribution of drivers by age\", fontsize = 20)\n",
    "plt.xlabel(\"Ages\", fontsize = 15)\n",
    "\n",
    "\n",
    "plt.show()"
   ]
  },
  {
   "cell_type": "markdown",
   "metadata": {},
   "source": [
    "We see that, mostly young people are stopped for traffic law violations. Interestingly, there were some cases where driver's age was above 80. I guess, once a rebel, always a rebel :)"
   ]
  },
  {
   "cell_type": "code",
   "execution_count": 25,
   "metadata": {},
   "outputs": [
    {
     "data": {
      "image/png": "[encoded data removed]",
      "text/plain": [
       "<matplotlib.figure.Figure at 0x1c2cc89dfd0>"
      ]
     },
     "metadata": {},
     "output_type": "display_data"
    }
   ],
   "source": [
    "sns.barplot(x=data[\"driver_race\"], y=data[\"driver_age_raw\"], hue=\"driver_gender\", data=data)\n",
    "plt.title(\"Distribution of drivers by age, gender and race\", fontsize = 20)\n",
    "plt.xlabel(\"Driver race\", fontsize = 15)\n",
    "plt.ylabel(\"Mean age\")\n",
    "plt.legend(bbox_to_anchor=(1.05, 1), loc=2, borderaxespad=0.)\n",
    "plt.tick_params(labelsize = 10)\n",
    "plt.show()"
   ]
  },
  {
   "cell_type": "markdown",
   "metadata": {},
   "source": [
    "We observe that, males law breakers are generally older. Also, hispanic people violating traffic laws are in general, younger than the others. "
   ]
  },
  {
   "cell_type": "markdown",
   "metadata": {},
   "source": [
    "# Predicting the outcome via Trees"
   ]
  },
  {
   "cell_type": "markdown",
   "metadata": {},
   "source": [
    "I already analyzed different aspects of the data. You may have a question in mind, what if I am pulled over? Which outcome(s) there could be? Now, let's try to build a model which can predict the outcome of you being pulled over."
   ]
  },
  {
   "cell_type": "code",
   "execution_count": 26,
   "metadata": {},
   "outputs": [
    {
     "data": {
      "text/html": [
       "<div>\n",
       "<table border=\"1\" class=\"dataframe\">\n",
       "  <thead>\n",
       "    <tr style=\"text-align: right;\">\n",
       "      <th></th>\n",
       "      <th>Time</th>\n",
       "      <th>county_name</th>\n",
       "      <th>driver_gender</th>\n",
       "      <th>driver_age_raw</th>\n",
       "      <th>driver_race</th>\n",
       "      <th>violation</th>\n",
       "      <th>search_conducted</th>\n",
       "      <th>contraband_found</th>\n",
       "      <th>stop_outcome</th>\n",
       "      <th>is_arrested</th>\n",
       "      <th>stop_duration</th>\n",
       "      <th>Month</th>\n",
       "      <th>Weekday</th>\n",
       "      <th>Day of the Week</th>\n",
       "      <th>Hour</th>\n",
       "    </tr>\n",
       "  </thead>\n",
       "  <tbody>\n",
       "    <tr>\n",
       "      <th>0</th>\n",
       "      <td>2013-10-01 00:01:00</td>\n",
       "      <td>Fairfield County</td>\n",
       "      <td>F</td>\n",
       "      <td>69</td>\n",
       "      <td>Black</td>\n",
       "      <td>Speeding</td>\n",
       "      <td>False</td>\n",
       "      <td>False</td>\n",
       "      <td>Ticket</td>\n",
       "      <td>False</td>\n",
       "      <td>1-15 min</td>\n",
       "      <td>October</td>\n",
       "      <td>Tuesday</td>\n",
       "      <td>1</td>\n",
       "      <td>0</td>\n",
       "    </tr>\n",
       "    <tr>\n",
       "      <th>1</th>\n",
       "      <td>2013-10-01 00:02:00</td>\n",
       "      <td>Tolland County</td>\n",
       "      <td>M</td>\n",
       "      <td>20</td>\n",
       "      <td>White</td>\n",
       "      <td>Moving violation</td>\n",
       "      <td>False</td>\n",
       "      <td>False</td>\n",
       "      <td>Verbal Warning</td>\n",
       "      <td>False</td>\n",
       "      <td>1-15 min</td>\n",
       "      <td>October</td>\n",
       "      <td>Tuesday</td>\n",
       "      <td>1</td>\n",
       "      <td>0</td>\n",
       "    </tr>\n",
       "    <tr>\n",
       "      <th>2</th>\n",
       "      <td>2013-10-01 00:07:00</td>\n",
       "      <td>New London County</td>\n",
       "      <td>M</td>\n",
       "      <td>34</td>\n",
       "      <td>Hispanic</td>\n",
       "      <td>Speeding</td>\n",
       "      <td>False</td>\n",
       "      <td>False</td>\n",
       "      <td>Ticket</td>\n",
       "      <td>False</td>\n",
       "      <td>1-15 min</td>\n",
       "      <td>October</td>\n",
       "      <td>Tuesday</td>\n",
       "      <td>1</td>\n",
       "      <td>0</td>\n",
       "    </tr>\n",
       "    <tr>\n",
       "      <th>3</th>\n",
       "      <td>2013-10-01 00:10:00</td>\n",
       "      <td>Fairfield County</td>\n",
       "      <td>M</td>\n",
       "      <td>46</td>\n",
       "      <td>Black</td>\n",
       "      <td>Speeding</td>\n",
       "      <td>False</td>\n",
       "      <td>False</td>\n",
       "      <td>Written Warning</td>\n",
       "      <td>False</td>\n",
       "      <td>1-15 min</td>\n",
       "      <td>October</td>\n",
       "      <td>Tuesday</td>\n",
       "      <td>1</td>\n",
       "      <td>0</td>\n",
       "    </tr>\n",
       "    <tr>\n",
       "      <th>4</th>\n",
       "      <td>2013-10-01 00:10:00</td>\n",
       "      <td>Hartford County</td>\n",
       "      <td>M</td>\n",
       "      <td>30</td>\n",
       "      <td>White</td>\n",
       "      <td>Speeding</td>\n",
       "      <td>False</td>\n",
       "      <td>False</td>\n",
       "      <td>Ticket</td>\n",
       "      <td>False</td>\n",
       "      <td>1-15 min</td>\n",
       "      <td>October</td>\n",
       "      <td>Tuesday</td>\n",
       "      <td>1</td>\n",
       "      <td>0</td>\n",
       "    </tr>\n",
       "  </tbody>\n",
       "</table>\n",
       "</div>"
      ],
      "text/plain": [
       "                 Time        county_name driver_gender  driver_age_raw  \\\n",
       "0 2013-10-01 00:01:00   Fairfield County             F              69   \n",
       "1 2013-10-01 00:02:00     Tolland County             M              20   \n",
       "2 2013-10-01 00:07:00  New London County             M              34   \n",
       "3 2013-10-01 00:10:00   Fairfield County             M              46   \n",
       "4 2013-10-01 00:10:00    Hartford County             M              30   \n",
       "\n",
       "  driver_race         violation search_conducted contraband_found  \\\n",
       "0       Black          Speeding            False            False   \n",
       "1       White  Moving violation            False            False   \n",
       "2    Hispanic          Speeding            False            False   \n",
       "3       Black          Speeding            False            False   \n",
       "4       White          Speeding            False            False   \n",
       "\n",
       "      stop_outcome is_arrested stop_duration    Month  Weekday  \\\n",
       "0           Ticket       False      1-15 min  October  Tuesday   \n",
       "1   Verbal Warning       False      1-15 min  October  Tuesday   \n",
       "2           Ticket       False      1-15 min  October  Tuesday   \n",
       "3  Written Warning       False      1-15 min  October  Tuesday   \n",
       "4           Ticket       False      1-15 min  October  Tuesday   \n",
       "\n",
       "   Day of the Week  Hour  \n",
       "0                1     0  \n",
       "1                1     0  \n",
       "2                1     0  \n",
       "3                1     0  \n",
       "4                1     0  "
      ]
     },
     "execution_count": 26,
     "metadata": {},
     "output_type": "execute_result"
    }
   ],
   "source": [
    "#Let's look at our data, first\n",
    "data.head()"
   ]
  },
  {
   "cell_type": "code",
   "execution_count": 27,
   "metadata": {},
   "outputs": [
    {
     "data": {
      "text/plain": [
       "Ticket             218822\n",
       "Verbal Warning      47714\n",
       "Written Warning     27057\n",
       "Summons             12196\n",
       "Arrest               7304\n",
       "Name: stop_outcome, dtype: int64"
      ]
     },
     "execution_count": 27,
     "metadata": {},
     "output_type": "execute_result"
    }
   ],
   "source": [
    "#Which outcomes are possible?\n",
    "data.stop_outcome.value_counts()"
   ]
  },
  {
   "cell_type": "markdown",
   "metadata": {},
   "source": [
    "Most of the time, police just write a ticket for you. Speeding issues I presume."
   ]
  },
  {
   "cell_type": "code",
   "execution_count": 28,
   "metadata": {
    "collapsed": true
   },
   "outputs": [],
   "source": [
    "top_violations = data.violation.value_counts().head(7).keys().tolist() #there are 5 outcomes, just in case I took first 7 :)"
   ]
  },
  {
   "cell_type": "code",
   "execution_count": 29,
   "metadata": {
    "collapsed": true
   },
   "outputs": [],
   "source": [
    "df = data[data[\"violation\"].isin(top_violations)]"
   ]
  },
  {
   "cell_type": "code",
   "execution_count": 30,
   "metadata": {
    "collapsed": true
   },
   "outputs": [],
   "source": [
    "#Rename some columns\n",
    "df = df.rename(columns = {\"driver_gender\":\"gender\",\"driver_age_raw\" : \"age\", \"driver_race\":\"race\" })"
   ]
  },
  {
   "cell_type": "code",
   "execution_count": 31,
   "metadata": {
    "collapsed": true
   },
   "outputs": [],
   "source": [
    "#Dropping these columns. They either have lots of missin values, and/or is probably useles.\n",
    "# I also drop stop_duration, as there is no accurate time\n",
    "df.drop([\"is_arrested\", \"Time\", \"county_name\",\"stop_duration\",\"Month\",\"Day of the Week\"], axis = 1, inplace= True)"
   ]
  },
  {
   "cell_type": "code",
   "execution_count": 32,
   "metadata": {},
   "outputs": [
    {
     "data": {
      "text/html": [
       "<div>\n",
       "<table border=\"1\" class=\"dataframe\">\n",
       "  <thead>\n",
       "    <tr style=\"text-align: right;\">\n",
       "      <th></th>\n",
       "      <th>gender</th>\n",
       "      <th>age</th>\n",
       "      <th>race</th>\n",
       "      <th>violation</th>\n",
       "      <th>search_conducted</th>\n",
       "      <th>contraband_found</th>\n",
       "      <th>stop_outcome</th>\n",
       "      <th>Weekday</th>\n",
       "      <th>Hour</th>\n",
       "    </tr>\n",
       "  </thead>\n",
       "  <tbody>\n",
       "    <tr>\n",
       "      <th>0</th>\n",
       "      <td>F</td>\n",
       "      <td>69</td>\n",
       "      <td>Black</td>\n",
       "      <td>Speeding</td>\n",
       "      <td>False</td>\n",
       "      <td>False</td>\n",
       "      <td>Ticket</td>\n",
       "      <td>Tuesday</td>\n",
       "      <td>0</td>\n",
       "    </tr>\n",
       "    <tr>\n",
       "      <th>1</th>\n",
       "      <td>M</td>\n",
       "      <td>20</td>\n",
       "      <td>White</td>\n",
       "      <td>Moving violation</td>\n",
       "      <td>False</td>\n",
       "      <td>False</td>\n",
       "      <td>Verbal Warning</td>\n",
       "      <td>Tuesday</td>\n",
       "      <td>0</td>\n",
       "    </tr>\n",
       "    <tr>\n",
       "      <th>2</th>\n",
       "      <td>M</td>\n",
       "      <td>34</td>\n",
       "      <td>Hispanic</td>\n",
       "      <td>Speeding</td>\n",
       "      <td>False</td>\n",
       "      <td>False</td>\n",
       "      <td>Ticket</td>\n",
       "      <td>Tuesday</td>\n",
       "      <td>0</td>\n",
       "    </tr>\n",
       "    <tr>\n",
       "      <th>3</th>\n",
       "      <td>M</td>\n",
       "      <td>46</td>\n",
       "      <td>Black</td>\n",
       "      <td>Speeding</td>\n",
       "      <td>False</td>\n",
       "      <td>False</td>\n",
       "      <td>Written Warning</td>\n",
       "      <td>Tuesday</td>\n",
       "      <td>0</td>\n",
       "    </tr>\n",
       "    <tr>\n",
       "      <th>4</th>\n",
       "      <td>M</td>\n",
       "      <td>30</td>\n",
       "      <td>White</td>\n",
       "      <td>Speeding</td>\n",
       "      <td>False</td>\n",
       "      <td>False</td>\n",
       "      <td>Ticket</td>\n",
       "      <td>Tuesday</td>\n",
       "      <td>0</td>\n",
       "    </tr>\n",
       "  </tbody>\n",
       "</table>\n",
       "</div>"
      ],
      "text/plain": [
       "  gender  age      race         violation search_conducted contraband_found  \\\n",
       "0      F   69     Black          Speeding            False            False   \n",
       "1      M   20     White  Moving violation            False            False   \n",
       "2      M   34  Hispanic          Speeding            False            False   \n",
       "3      M   46     Black          Speeding            False            False   \n",
       "4      M   30     White          Speeding            False            False   \n",
       "\n",
       "      stop_outcome  Weekday  Hour  \n",
       "0           Ticket  Tuesday     0  \n",
       "1   Verbal Warning  Tuesday     0  \n",
       "2           Ticket  Tuesday     0  \n",
       "3  Written Warning  Tuesday     0  \n",
       "4           Ticket  Tuesday     0  "
      ]
     },
     "execution_count": 32,
     "metadata": {},
     "output_type": "execute_result"
    }
   ],
   "source": [
    "#One last look at the data\n",
    "df.head()"
   ]
  },
  {
   "cell_type": "code",
   "execution_count": 33,
   "metadata": {
    "collapsed": true,
    "scrolled": true
   },
   "outputs": [],
   "source": [
    "#Replacing categorical variables with dummies\n",
    "df = pd.get_dummies(data= df, columns=[\"gender\", \"race\", \"violation\", \"search_conducted\", \"contraband_found\", \"Weekday\"], drop_first= True)"
   ]
  },
  {
   "cell_type": "code",
   "execution_count": 34,
   "metadata": {},
   "outputs": [
    {
     "data": {
      "text/plain": [
       "age                                 0\n",
       "stop_outcome                     5088\n",
       "Hour                                0\n",
       "gender_M                            0\n",
       "race_Black                          0\n",
       "race_Hispanic                       0\n",
       "race_Other                          0\n",
       "race_White                          0\n",
       "violation_Lights                    0\n",
       "violation_Moving violation          0\n",
       "violation_Other                     0\n",
       "violation_Registration/plates       0\n",
       "violation_Seat belt                 0\n",
       "violation_Speeding                  0\n",
       "search_conducted_True               0\n",
       "contraband_found_True               0\n",
       "Weekday_Monday                      0\n",
       "Weekday_Saturday                    0\n",
       "Weekday_Sunday                      0\n",
       "Weekday_Thursday                    0\n",
       "Weekday_Tuesday                     0\n",
       "Weekday_Wednesday                   0\n",
       "dtype: int64"
      ]
     },
     "execution_count": 34,
     "metadata": {},
     "output_type": "execute_result"
    }
   ],
   "source": [
    "#Checking null values\n",
    "df.isnull().sum()"
   ]
  },
  {
   "cell_type": "code",
   "execution_count": 35,
   "metadata": {
    "collapsed": true
   },
   "outputs": [],
   "source": [
    "#Force NA removal\n",
    "df = df.dropna(axis= 0, how= 'any')"
   ]
  },
  {
   "cell_type": "code",
   "execution_count": 36,
   "metadata": {},
   "outputs": [
    {
     "data": {
      "text/html": [
       "<div>\n",
       "<table border=\"1\" class=\"dataframe\">\n",
       "  <thead>\n",
       "    <tr style=\"text-align: right;\">\n",
       "      <th></th>\n",
       "      <th>age</th>\n",
       "      <th>stop_outcome</th>\n",
       "      <th>Hour</th>\n",
       "      <th>gender_M</th>\n",
       "      <th>race_Black</th>\n",
       "      <th>race_Hispanic</th>\n",
       "      <th>race_Other</th>\n",
       "      <th>race_White</th>\n",
       "      <th>violation_Lights</th>\n",
       "      <th>violation_Moving violation</th>\n",
       "      <th>...</th>\n",
       "      <th>violation_Seat belt</th>\n",
       "      <th>violation_Speeding</th>\n",
       "      <th>search_conducted_True</th>\n",
       "      <th>contraband_found_True</th>\n",
       "      <th>Weekday_Monday</th>\n",
       "      <th>Weekday_Saturday</th>\n",
       "      <th>Weekday_Sunday</th>\n",
       "      <th>Weekday_Thursday</th>\n",
       "      <th>Weekday_Tuesday</th>\n",
       "      <th>Weekday_Wednesday</th>\n",
       "    </tr>\n",
       "  </thead>\n",
       "  <tbody>\n",
       "    <tr>\n",
       "      <th>0</th>\n",
       "      <td>69</td>\n",
       "      <td>Ticket</td>\n",
       "      <td>0</td>\n",
       "      <td>0.0</td>\n",
       "      <td>1.0</td>\n",
       "      <td>0.0</td>\n",
       "      <td>0.0</td>\n",
       "      <td>0.0</td>\n",
       "      <td>0.0</td>\n",
       "      <td>0.0</td>\n",
       "      <td>...</td>\n",
       "      <td>0.0</td>\n",
       "      <td>1.0</td>\n",
       "      <td>0.0</td>\n",
       "      <td>0.0</td>\n",
       "      <td>0.0</td>\n",
       "      <td>0.0</td>\n",
       "      <td>0.0</td>\n",
       "      <td>0.0</td>\n",
       "      <td>1.0</td>\n",
       "      <td>0.0</td>\n",
       "    </tr>\n",
       "    <tr>\n",
       "      <th>1</th>\n",
       "      <td>20</td>\n",
       "      <td>Verbal Warning</td>\n",
       "      <td>0</td>\n",
       "      <td>1.0</td>\n",
       "      <td>0.0</td>\n",
       "      <td>0.0</td>\n",
       "      <td>0.0</td>\n",
       "      <td>1.0</td>\n",
       "      <td>0.0</td>\n",
       "      <td>1.0</td>\n",
       "      <td>...</td>\n",
       "      <td>0.0</td>\n",
       "      <td>0.0</td>\n",
       "      <td>0.0</td>\n",
       "      <td>0.0</td>\n",
       "      <td>0.0</td>\n",
       "      <td>0.0</td>\n",
       "      <td>0.0</td>\n",
       "      <td>0.0</td>\n",
       "      <td>1.0</td>\n",
       "      <td>0.0</td>\n",
       "    </tr>\n",
       "    <tr>\n",
       "      <th>2</th>\n",
       "      <td>34</td>\n",
       "      <td>Ticket</td>\n",
       "      <td>0</td>\n",
       "      <td>1.0</td>\n",
       "      <td>0.0</td>\n",
       "      <td>1.0</td>\n",
       "      <td>0.0</td>\n",
       "      <td>0.0</td>\n",
       "      <td>0.0</td>\n",
       "      <td>0.0</td>\n",
       "      <td>...</td>\n",
       "      <td>0.0</td>\n",
       "      <td>1.0</td>\n",
       "      <td>0.0</td>\n",
       "      <td>0.0</td>\n",
       "      <td>0.0</td>\n",
       "      <td>0.0</td>\n",
       "      <td>0.0</td>\n",
       "      <td>0.0</td>\n",
       "      <td>1.0</td>\n",
       "      <td>0.0</td>\n",
       "    </tr>\n",
       "    <tr>\n",
       "      <th>3</th>\n",
       "      <td>46</td>\n",
       "      <td>Written Warning</td>\n",
       "      <td>0</td>\n",
       "      <td>1.0</td>\n",
       "      <td>1.0</td>\n",
       "      <td>0.0</td>\n",
       "      <td>0.0</td>\n",
       "      <td>0.0</td>\n",
       "      <td>0.0</td>\n",
       "      <td>0.0</td>\n",
       "      <td>...</td>\n",
       "      <td>0.0</td>\n",
       "      <td>1.0</td>\n",
       "      <td>0.0</td>\n",
       "      <td>0.0</td>\n",
       "      <td>0.0</td>\n",
       "      <td>0.0</td>\n",
       "      <td>0.0</td>\n",
       "      <td>0.0</td>\n",
       "      <td>1.0</td>\n",
       "      <td>0.0</td>\n",
       "    </tr>\n",
       "    <tr>\n",
       "      <th>4</th>\n",
       "      <td>30</td>\n",
       "      <td>Ticket</td>\n",
       "      <td>0</td>\n",
       "      <td>1.0</td>\n",
       "      <td>0.0</td>\n",
       "      <td>0.0</td>\n",
       "      <td>0.0</td>\n",
       "      <td>1.0</td>\n",
       "      <td>0.0</td>\n",
       "      <td>0.0</td>\n",
       "      <td>...</td>\n",
       "      <td>0.0</td>\n",
       "      <td>1.0</td>\n",
       "      <td>0.0</td>\n",
       "      <td>0.0</td>\n",
       "      <td>0.0</td>\n",
       "      <td>0.0</td>\n",
       "      <td>0.0</td>\n",
       "      <td>0.0</td>\n",
       "      <td>1.0</td>\n",
       "      <td>0.0</td>\n",
       "    </tr>\n",
       "  </tbody>\n",
       "</table>\n",
       "<p>5 rows × 22 columns</p>\n",
       "</div>"
      ],
      "text/plain": [
       "   age     stop_outcome  Hour  gender_M  race_Black  race_Hispanic  \\\n",
       "0   69           Ticket     0       0.0         1.0            0.0   \n",
       "1   20   Verbal Warning     0       1.0         0.0            0.0   \n",
       "2   34           Ticket     0       1.0         0.0            1.0   \n",
       "3   46  Written Warning     0       1.0         1.0            0.0   \n",
       "4   30           Ticket     0       1.0         0.0            0.0   \n",
       "\n",
       "   race_Other  race_White  violation_Lights  violation_Moving violation  \\\n",
       "0         0.0         0.0               0.0                         0.0   \n",
       "1         0.0         1.0               0.0                         1.0   \n",
       "2         0.0         0.0               0.0                         0.0   \n",
       "3         0.0         0.0               0.0                         0.0   \n",
       "4         0.0         1.0               0.0                         0.0   \n",
       "\n",
       "         ...          violation_Seat belt  violation_Speeding  \\\n",
       "0        ...                          0.0                 1.0   \n",
       "1        ...                          0.0                 0.0   \n",
       "2        ...                          0.0                 1.0   \n",
       "3        ...                          0.0                 1.0   \n",
       "4        ...                          0.0                 1.0   \n",
       "\n",
       "   search_conducted_True  contraband_found_True  Weekday_Monday  \\\n",
       "0                    0.0                    0.0             0.0   \n",
       "1                    0.0                    0.0             0.0   \n",
       "2                    0.0                    0.0             0.0   \n",
       "3                    0.0                    0.0             0.0   \n",
       "4                    0.0                    0.0             0.0   \n",
       "\n",
       "   Weekday_Saturday  Weekday_Sunday  Weekday_Thursday  Weekday_Tuesday  \\\n",
       "0               0.0             0.0               0.0              1.0   \n",
       "1               0.0             0.0               0.0              1.0   \n",
       "2               0.0             0.0               0.0              1.0   \n",
       "3               0.0             0.0               0.0              1.0   \n",
       "4               0.0             0.0               0.0              1.0   \n",
       "\n",
       "   Weekday_Wednesday  \n",
       "0                0.0  \n",
       "1                0.0  \n",
       "2                0.0  \n",
       "3                0.0  \n",
       "4                0.0  \n",
       "\n",
       "[5 rows x 22 columns]"
      ]
     },
     "execution_count": 36,
     "metadata": {},
     "output_type": "execute_result"
    }
   ],
   "source": [
    "#Now data looks different and Machine learning friendly\n",
    "df.head()"
   ]
  },
  {
   "cell_type": "code",
   "execution_count": 37,
   "metadata": {},
   "outputs": [
    {
     "data": {
      "text/plain": [
       "Index(['age', 'stop_outcome', 'Hour', 'gender_M', 'race_Black',\n",
       "       'race_Hispanic', 'race_Other', 'race_White', 'violation_Lights',\n",
       "       'violation_Moving violation', 'violation_Other',\n",
       "       'violation_Registration/plates', 'violation_Seat belt',\n",
       "       'violation_Speeding', 'search_conducted_True', 'contraband_found_True',\n",
       "       'Weekday_Monday', 'Weekday_Saturday', 'Weekday_Sunday',\n",
       "       'Weekday_Thursday', 'Weekday_Tuesday', 'Weekday_Wednesday'],\n",
       "      dtype='object')"
      ]
     },
     "execution_count": 37,
     "metadata": {},
     "output_type": "execute_result"
    }
   ],
   "source": [
    "df.columns"
   ]
  },
  {
   "cell_type": "raw",
   "metadata": {},
   "source": [
    "First, I will use Random Forest classifier. I presume that, you already have general idea about this algorithm. Let me provide some of its features from Berkley university webpage:\n",
    "1.It is unexcelled in accuracy among current algorithms.\n",
    "2.It runs efficiently on large data bases.\n",
    "3.It can handle thousands of input variables without variable deletion.\n",
    "4.It gives estimates of what variables are important in the classification.\n"
   ]
  },
  {
   "cell_type": "code",
   "execution_count": 38,
   "metadata": {
    "collapsed": true
   },
   "outputs": [],
   "source": [
    "from sklearn.ensemble import RandomForestClassifier   #Classifier itself\n",
    "from sklearn.metrics import confusion_matrix, classification_report, accuracy_score   #Metrics of the model. Accuracy and etc.\n",
    "from sklearn.cross_validation import train_test_split  #For splitting our data into training and test sets\n",
    "\n",
    "\n",
    "from sklearn.preprocessing import StandardScaler    #In case we need some scaling"
   ]
  },
  {
   "cell_type": "code",
   "execution_count": 39,
   "metadata": {
    "collapsed": true
   },
   "outputs": [],
   "source": [
    "clf = RandomForestClassifier()\n",
    "sc = StandardScaler()"
   ]
  },
  {
   "cell_type": "code",
   "execution_count": 40,
   "metadata": {
    "collapsed": true
   },
   "outputs": [],
   "source": [
    "#X values are\n",
    "X = df.drop(\"stop_outcome\", axis = 1)"
   ]
  },
  {
   "cell_type": "code",
   "execution_count": 41,
   "metadata": {},
   "outputs": [
    {
     "data": {
      "text/plain": [
       "array([0, 1, 0, ..., 0, 0, 0])"
      ]
     },
     "execution_count": 41,
     "metadata": {},
     "output_type": "execute_result"
    }
   ],
   "source": [
    "#y values are given a number per each class. From 0 to 4\n",
    "y = pd.factorize(df[\"stop_outcome\"])[0]\n",
    "y"
   ]
  },
  {
   "cell_type": "code",
   "execution_count": 42,
   "metadata": {
    "collapsed": true
   },
   "outputs": [],
   "source": [
    "#Splitting dataset\n",
    "X_train, X_test, y_train, y_test = train_test_split(X, y, test_size=0.33, random_state=42)"
   ]
  },
  {
   "cell_type": "code",
   "execution_count": 43,
   "metadata": {},
   "outputs": [
    {
     "data": {
      "text/plain": [
       "RandomForestClassifier(bootstrap=True, class_weight=None, criterion='gini',\n",
       "            max_depth=None, max_features='auto', max_leaf_nodes=None,\n",
       "            min_samples_leaf=1, min_samples_split=2,\n",
       "            min_weight_fraction_leaf=0.0, n_estimators=10, n_jobs=1,\n",
       "            oob_score=False, random_state=None, verbose=0,\n",
       "            warm_start=False)"
      ]
     },
     "execution_count": 43,
     "metadata": {},
     "output_type": "execute_result"
    }
   ],
   "source": [
    "#Model in action\n",
    "clf.fit(X_train, y_train)"
   ]
  },
  {
   "cell_type": "code",
   "execution_count": 44,
   "metadata": {
    "collapsed": true
   },
   "outputs": [],
   "source": [
    "#Predicting outcomes in test set\n",
    "pred = clf.predict(X_test)"
   ]
  },
  {
   "cell_type": "code",
   "execution_count": 45,
   "metadata": {},
   "outputs": [
    {
     "name": "stdout",
     "output_type": "stream",
     "text": [
      "             precision    recall  f1-score   support\n",
      "\n",
      "          0       0.74      0.85      0.79     69085\n",
      "          1       0.25      0.18      0.21     14484\n",
      "          2       0.15      0.09      0.11      7973\n",
      "          3       0.06      0.03      0.04      3114\n",
      "          4       0.17      0.10      0.13      2178\n",
      "\n",
      "avg / total       0.58      0.64      0.61     96834\n",
      "\n",
      "[[58762  5810  2838   947   728]\n",
      " [10475  2562  1075   163   209]\n",
      " [ 5867  1260   696    79    71]\n",
      " [ 2611   222   102    84    95]\n",
      " [ 1569   238    81    67   223]]\n",
      "\n",
      "\n",
      "Accuracy score of our model is 0.6436478922692442\n"
     ]
    }
   ],
   "source": [
    "#How our results look like\n",
    "print(classification_report(y_test, pred))\n",
    "print(confusion_matrix(y_test, pred))\n",
    "print(\"\\n\")\n",
    "print(\"Accuracy score of our model is {}\".format(accuracy_score(y_test, pred)))"
   ]
  },
  {
   "cell_type": "markdown",
   "metadata": {
    "collapsed": true
   },
   "source": [
    "I wished it to be better. Yet, 64 percent accuracy is still not bad. Now, let's use some more advanced technique"
   ]
  },
  {
   "cell_type": "markdown",
   "metadata": {},
   "source": [
    "# Learning Deep "
   ]
  },
  {
   "cell_type": "markdown",
   "metadata": {},
   "source": [
    "Now, I will use Artificial Neural Network in order to solve this problem. Keras is an excellent high-level package which can work on Tensorflow, as well as Theano backends. After scaling our data (scaling is always welcomed in deep learning) I will proceed it through a network with 4 hidden layers, 10 nodes per each. In order to be more versatile, I use Kfold cross validation. It takes a while, until results are ready. So, running it, make sure you have some other things to do while waiting :)"
   ]
  },
  {
   "cell_type": "code",
   "execution_count": 46,
   "metadata": {},
   "outputs": [
    {
     "name": "stderr",
     "output_type": "stream",
     "text": [
      "Using TensorFlow backend.\n"
     ]
    }
   ],
   "source": [
    "from sklearn.preprocessing import StandardScaler                   # for normalization of our data\n",
    "from keras.wrappers.scikit_learn import KerasClassifier            #package allowing keras to work with python\n",
    "from sklearn.grid_search import GridSearchCV  #using Kfold and if needed, GridSearch object in analysis\n",
    "from sklearn.utils import shuffle                                  # shuffling our own made dataset\n",
    "from keras.models import Sequential                                # linear layer stacks model for keras\n",
    "from keras.layers import Dense, Dropout\n",
    "from sklearn.cross_validation import cross_val_score "
   ]
  },
  {
   "cell_type": "code",
   "execution_count": null,
   "metadata": {
    "scrolled": true
   },
   "outputs": [],
   "source": [
    "#Scaling the data\n",
    "X_train = sc.fit_transform(X_train)\n",
    "X_test = sc.fit_transform(X_test)\n",
    "y_train = sc.fit_transform(y_train)\n",
    "y_test = sc.fit_transform(y_test)"
   ]
  },
  {
   "cell_type": "code",
   "execution_count": 48,
   "metadata": {
    "collapsed": true
   },
   "outputs": [],
   "source": [
    "def classifier_builder ():\n",
    "    \"\"\"\n",
    "    Here, I will define our classifier builder object. I will use ANN with 4 hidden layers with 10 nodes each. My activation\n",
    "    function will be relu(x, alpha=0.0, max_value=None), random weights of layers will be \"uniformly\" distirbuted,\n",
    "    output node will have sigmoid activation function, because classification is binary. Input variables are 21, output\n",
    "    variables are 5. For compiling of model I will use adam optimizer, binary cross entropy loss function.\n",
    "    \n",
    "    \"\"\"\n",
    "    classifier = Sequential()\n",
    "    classifier.add(Dense(units = 10, activation='relu',kernel_initializer='uniform', input_dim = 21))\n",
    "    #classifier.add(Dropout(p= 0.1))\n",
    "    classifier.add(Dense(units = 10, activation='relu',kernel_initializer='uniform'))\n",
    "    #classifier.add(Dropout(p= 0.1))\n",
    "    classifier.add(Dense(units = 10, activation='relu',kernel_initializer='uniform'))\n",
    "    #classifier.add(Dropout(p= 0.1))\n",
    "    classifier.add(Dense(units = 10, activation='relu',kernel_initializer='uniform'))\n",
    "    #classifier.add(Dropout(p= 0.1))\n",
    "    classifier.add(Dense(units = 5, activation='softmax',kernel_initializer='uniform'))\n",
    "    #classifier.add(Dropout(p= 0.1))\n",
    "    classifier.compile(optimizer='adam', loss='categorical_crossentropy',metrics=['accuracy'])\n",
    "    return classifier"
   ]
  },
  {
   "cell_type": "code",
   "execution_count": 49,
   "metadata": {
    "scrolled": true
   },
   "outputs": [
    {
     "name": "stdout",
     "output_type": "stream",
     "text": [
      "Epoch 1/10\n",
      "176940/176940 [==============================] - 19s - loss: 0.9012 - acc: 0.7136    \n",
      "Epoch 2/10\n",
      "176940/176940 [==============================] - 18s - loss: 0.8874 - acc: 0.7207    \n",
      "Epoch 3/10\n",
      "176940/176940 [==============================] - 18s - loss: 0.8713 - acc: 0.7218    \n",
      "Epoch 4/10\n",
      "176940/176940 [==============================] - 18s - loss: 0.8617 - acc: 0.7220    \n",
      "Epoch 5/10\n",
      "176940/176940 [==============================] - 18s - loss: 0.8599 - acc: 0.7222    \n",
      "Epoch 6/10\n",
      "176940/176940 [==============================] - 17s - loss: 0.8583 - acc: 0.7222    \n",
      "Epoch 7/10\n",
      "176940/176940 [==============================] - 17s - loss: 0.8559 - acc: 0.7233    \n",
      "Epoch 8/10\n",
      "176940/176940 [==============================] - 17s - loss: 0.8551 - acc: 0.7237    \n",
      "Epoch 9/10\n",
      "176940/176940 [==============================] - 17s - loss: 0.8543 - acc: 0.7238    \n",
      "Epoch 10/10\n",
      "176940/176940 [==============================] - 19s - loss: 0.8541 - acc: 0.7237    - ETA: 0s - loss: 0.8\n",
      "19300/19660 [============================>.] - ETA: 0sEpoch 1/10\n",
      "176940/176940 [==============================] - 20s - loss: 0.9027 - acc: 0.7130    \n",
      "Epoch 2/10\n",
      "176940/176940 [==============================] - 18s - loss: 0.8910 - acc: 0.7172    \n",
      "Epoch 3/10\n",
      "176940/176940 [==============================] - 17s - loss: 0.8887 - acc: 0.7177    \n",
      "Epoch 4/10\n",
      "176940/176940 [==============================] - 18s - loss: 0.8866 - acc: 0.7194    \n",
      "Epoch 5/10\n",
      "176940/176940 [==============================] - 17s - loss: 0.8670 - acc: 0.7210    \n",
      "Epoch 6/10\n",
      "176940/176940 [==============================] - 18s - loss: 0.8632 - acc: 0.7210    \n",
      "Epoch 7/10\n",
      "176940/176940 [==============================] - 18s - loss: 0.8625 - acc: 0.7209    \n",
      "Epoch 8/10\n",
      "176940/176940 [==============================] - 17s - loss: 0.8621 - acc: 0.7210    \n",
      "Epoch 9/10\n",
      "176940/176940 [==============================] - 18s - loss: 0.8610 - acc: 0.7210    \n",
      "Epoch 10/10\n",
      "176940/176940 [==============================] - 18s - loss: 0.8600 - acc: 0.7211    \n",
      "19200/19660 [============================>.] - ETA: 0sEpoch 1/10\n",
      "176940/176940 [==============================] - 18s - loss: 0.9012 - acc: 0.7135    - ETA: 1s - loss: 0. - ETA: 0s - loss: 0.\n",
      "Epoch 2/10\n",
      "176940/176940 [==============================] - 18s - loss: 0.8873 - acc: 0.7204    \n",
      "Epoch 3/10\n",
      "176940/176940 [==============================] - 18s - loss: 0.8840 - acc: 0.7218    \n",
      "Epoch 4/10\n",
      "176940/176940 [==============================] - 18s - loss: 0.8829 - acc: 0.7219    \n",
      "Epoch 5/10\n",
      "176940/176940 [==============================] - 18s - loss: 0.8821 - acc: 0.7217    \n",
      "Epoch 6/10\n",
      "176940/176940 [==============================] - 18s - loss: 0.8813 - acc: 0.7221    \n",
      "Epoch 7/10\n",
      "176940/176940 [==============================] - 18s - loss: 0.8809 - acc: 0.7219    - ETA: 0s - loss: 0.8817 \n",
      "Epoch 8/10\n",
      "176940/176940 [==============================] - 18s - loss: 0.8801 - acc: 0.7218    \n",
      "Epoch 9/10\n",
      "176940/176940 [==============================] - 18s - loss: 0.8716 - acc: 0.7220    \n",
      "Epoch 10/10\n",
      "176940/176940 [==============================] - 18s - loss: 0.8604 - acc: 0.7223    \n",
      "19360/19660 [============================>.] - ETA: 0sEpoch 1/10\n",
      "176940/176940 [==============================] - 18s - loss: 0.9004 - acc: 0.7142    \n",
      "Epoch 2/10\n",
      "176940/176940 [==============================] - 18s - loss: 0.8885 - acc: 0.7208    \n",
      "Epoch 3/10\n",
      "176940/176940 [==============================] - 18s - loss: 0.8858 - acc: 0.7212    \n",
      "Epoch 4/10\n",
      "176940/176940 [==============================] - 18s - loss: 0.8843 - acc: 0.7214    \n",
      "Epoch 5/10\n",
      "176940/176940 [==============================] - 18s - loss: 0.8829 - acc: 0.7214    \n",
      "Epoch 6/10\n",
      "176940/176940 [==============================] - 18s - loss: 0.8815 - acc: 0.7213    \n",
      "Epoch 7/10\n",
      "176940/176940 [==============================] - 19s - loss: 0.8719 - acc: 0.7212    \n",
      "Epoch 8/10\n",
      "176940/176940 [==============================] - 19s - loss: 0.8627 - acc: 0.7213    \n",
      "Epoch 9/10\n",
      "176940/176940 [==============================] - 19s - loss: 0.8620 - acc: 0.7213    \n",
      "Epoch 10/10\n",
      "176940/176940 [==============================] - 19s - loss: 0.8614 - acc: 0.7215    \n",
      "18920/19660 [===========================>..] - ETA: 0sEpoch 1/10\n",
      "176940/176940 [==============================] - 19s - loss: 0.9017 - acc: 0.7138    \n",
      "Epoch 2/10\n",
      "176940/176940 [==============================] - 19s - loss: 0.8894 - acc: 0.7189    \n",
      "Epoch 3/10\n",
      "176940/176940 [==============================] - 19s - loss: 0.8840 - acc: 0.7204    \n",
      "Epoch 4/10\n",
      "176940/176940 [==============================] - 18s - loss: 0.8725 - acc: 0.7210    \n",
      "Epoch 5/10\n",
      "176940/176940 [==============================] - 18s - loss: 0.8660 - acc: 0.7214    \n",
      "Epoch 6/10\n",
      "176940/176940 [==============================] - 18s - loss: 0.8625 - acc: 0.7218    \n",
      "Epoch 7/10\n",
      "176940/176940 [==============================] - 18s - loss: 0.8614 - acc: 0.7216    \n",
      "Epoch 8/10\n",
      "176940/176940 [==============================] - 19s - loss: 0.8598 - acc: 0.7219    \n",
      "Epoch 9/10\n",
      "176940/176940 [==============================] - 19s - loss: 0.8585 - acc: 0.7224    \n",
      "Epoch 10/10\n",
      "176940/176940 [==============================] - 18s - loss: 0.8580 - acc: 0.7222    \n",
      "19320/19660 [============================>.] - ETA: 0sEpoch 1/10\n",
      "176940/176940 [==============================] - 19s - loss: 0.9020 - acc: 0.7129    - ETA: 3s - loss:\n",
      "Epoch 2/10\n",
      "176940/176940 [==============================] - 21s - loss: 0.8911 - acc: 0.7172    \n",
      "Epoch 3/10\n",
      "176940/176940 [==============================] - 18s - loss: 0.8888 - acc: 0.7181    \n",
      "Epoch 4/10\n",
      "176940/176940 [==============================] - 18s - loss: 0.8876 - acc: 0.7182    \n",
      "Epoch 5/10\n",
      "176940/176940 [==============================] - 19s - loss: 0.8856 - acc: 0.7201    \n",
      "Epoch 6/10\n",
      "176940/176940 [==============================] - 19s - loss: 0.8833 - acc: 0.7212    \n",
      "Epoch 7/10\n",
      "176940/176940 [==============================] - 18s - loss: 0.8824 - acc: 0.7213    \n",
      "Epoch 8/10\n",
      "176940/176940 [==============================] - 18s - loss: 0.8811 - acc: 0.7213    \n",
      "Epoch 9/10\n",
      "176940/176940 [==============================] - 18s - loss: 0.8790 - acc: 0.7211    \n",
      "Epoch 10/10\n",
      "176940/176940 [==============================] - 19s - loss: 0.8772 - acc: 0.7209    \n",
      "19220/19660 [============================>.] - ETA: 0sEpoch 1/10\n",
      "176940/176940 [==============================] - 21s - loss: 0.9019 - acc: 0.7140    \n",
      "Epoch 2/10\n",
      "176940/176940 [==============================] - 19s - loss: 0.8908 - acc: 0.7171    - ETA: 0s - loss: 0.\n",
      "Epoch 3/10\n",
      "176940/176940 [==============================] - 18s - loss: 0.8889 - acc: 0.7177    \n",
      "Epoch 4/10\n",
      "176940/176940 [==============================] - 19s - loss: 0.8879 - acc: 0.7178    \n",
      "Epoch 5/10\n",
      "176940/176940 [==============================] - 19s - loss: 0.8875 - acc: 0.7177    \n",
      "Epoch 6/10\n",
      "176940/176940 [==============================] - 19s - loss: 0.8842 - acc: 0.7210    \n",
      "Epoch 7/10\n",
      "176940/176940 [==============================] - 18s - loss: 0.8816 - acc: 0.7212    \n",
      "Epoch 8/10\n",
      "176940/176940 [==============================] - 19s - loss: 0.8745 - acc: 0.7210    - ETA: 0s - loss: 0\n",
      "Epoch 9/10\n",
      "176940/176940 [==============================] - 18s - loss: 0.8636 - acc: 0.7213    \n",
      "Epoch 10/10\n",
      "176940/176940 [==============================] - 19s - loss: 0.8599 - acc: 0.7220    \n",
      "18930/19660 [===========================>..] - ETA: 0sEpoch 1/10\n",
      "176940/176940 [==============================] - 19s - loss: 0.9013 - acc: 0.7155    \n",
      "Epoch 2/10\n",
      "176940/176940 [==============================] - 20s - loss: 0.8897 - acc: 0.7208    \n",
      "Epoch 3/10\n",
      "176940/176940 [==============================] - 19s - loss: 0.8823 - acc: 0.7211    \n",
      "Epoch 4/10\n",
      "176940/176940 [==============================] - 20s - loss: 0.8652 - acc: 0.7211    \n",
      "Epoch 5/10\n",
      "176940/176940 [==============================] - 20s - loss: 0.8628 - acc: 0.7209    \n",
      "Epoch 6/10\n",
      "176940/176940 [==============================] - 19s - loss: 0.8616 - acc: 0.7211    \n",
      "Epoch 7/10\n",
      "176940/176940 [==============================] - 20s - loss: 0.8605 - acc: 0.7212    \n",
      "Epoch 8/10\n",
      "176940/176940 [==============================] - 19s - loss: 0.8592 - acc: 0.7216    \n",
      "Epoch 9/10\n"
     ]
    },
    {
     "name": "stdout",
     "output_type": "stream",
     "text": [
      "176940/176940 [==============================] - 18s - loss: 0.8586 - acc: 0.7218    \n",
      "Epoch 10/10\n",
      "176940/176940 [==============================] - 18s - loss: 0.8579 - acc: 0.7216    \n",
      "19560/19660 [============================>.] - ETA: 0sEpoch 1/10\n",
      "176940/176940 [==============================] - 18s - loss: 0.9025 - acc: 0.7143    \n",
      "Epoch 2/10\n",
      "176940/176940 [==============================] - 18s - loss: 0.8910 - acc: 0.7199    \n",
      "Epoch 3/10\n",
      "176940/176940 [==============================] - 18s - loss: 0.8880 - acc: 0.7205    \n",
      "Epoch 4/10\n",
      "176940/176940 [==============================] - 18s - loss: 0.8848 - acc: 0.7205    \n",
      "Epoch 5/10\n",
      "176940/176940 [==============================] - 18s - loss: 0.8683 - acc: 0.7205    \n",
      "Epoch 6/10\n",
      "176940/176940 [==============================] - 18s - loss: 0.8655 - acc: 0.7205    \n",
      "Epoch 7/10\n",
      "176940/176940 [==============================] - 18s - loss: 0.8649 - acc: 0.7205    \n",
      "Epoch 8/10\n",
      "176940/176940 [==============================] - 18s - loss: 0.8641 - acc: 0.7205    \n",
      "Epoch 9/10\n",
      "176940/176940 [==============================] - 18s - loss: 0.8637 - acc: 0.7206    \n",
      "Epoch 10/10\n",
      "176940/176940 [==============================] - 18s - loss: 0.8630 - acc: 0.7207    \n",
      "19140/19660 [============================>.] - ETA: 0sEpoch 1/10\n",
      "176940/176940 [==============================] - 18s - loss: 0.9019 - acc: 0.7136    \n",
      "Epoch 2/10\n",
      "176940/176940 [==============================] - 18s - loss: 0.8903 - acc: 0.7174    \n",
      "Epoch 3/10\n",
      "176940/176940 [==============================] - 18s - loss: 0.8882 - acc: 0.7178    \n",
      "Epoch 4/10\n",
      "176940/176940 [==============================] - 18s - loss: 0.8872 - acc: 0.7179    \n",
      "Epoch 5/10\n",
      "176940/176940 [==============================] - 18s - loss: 0.8862 - acc: 0.7185    \n",
      "Epoch 6/10\n",
      "176940/176940 [==============================] - 18s - loss: 0.8837 - acc: 0.7211    \n",
      "Epoch 7/10\n",
      "176940/176940 [==============================] - 18s - loss: 0.8800 - acc: 0.7210    \n",
      "Epoch 8/10\n",
      "176940/176940 [==============================] - 18s - loss: 0.8631 - acc: 0.7209    \n",
      "Epoch 9/10\n",
      "176940/176940 [==============================] - 18s - loss: 0.8619 - acc: 0.7210    \n",
      "Epoch 10/10\n",
      "176940/176940 [==============================] - 18s - loss: 0.8611 - acc: 0.7212    \n",
      "19110/19660 [============================>.] - ETA: 0s"
     ]
    }
   ],
   "source": [
    "#Now we should create classifier object using our internal classifier object in the function above\n",
    "#I will use 10 fold cross validation to increase my model's versatility and accuracy\n",
    "classifier = KerasClassifier(build_fn= classifier_builder,\n",
    "                             batch_size = 10,\n",
    "                             nb_epoch = 100)\n",
    "accuracies = cross_val_score(estimator=classifier, \n",
    "                             X = X_train,\n",
    "                             y = y_train,\n",
    "                             cv= 10)"
   ]
  },
  {
   "cell_type": "code",
   "execution_count": 50,
   "metadata": {
    "scrolled": true
   },
   "outputs": [
    {
     "name": "stdout",
     "output_type": "stream",
     "text": [
      "Model's mean accuracy is 0.7215869794712456\n"
     ]
    }
   ],
   "source": [
    "print(\"Model's mean accuracy is {}\".format(accuracies.mean()))"
   ]
  },
  {
   "cell_type": "markdown",
   "metadata": {},
   "source": [
    "Better than Random Forest. After some parameter tuning using GridSearch, I got 0.78311 accuracy.\n",
    "That would be all for now. Always try to drive safely!"
   ]
  }
 ],
 "metadata": {
  "kernelspec": {
   "display_name": "Python 3",
   "language": "python",
   "name": "python3"
  },
  "language_info": {
   "codemirror_mode": {
    "name": "ipython",
    "version": 3
   },
   "file_extension": ".py",
   "mimetype": "text/x-python",
   "name": "python",
   "nbconvert_exporter": "python",
   "pygments_lexer": "ipython3",
   "version": "3.5.3"
  }
 },
 "nbformat": 4,
 "nbformat_minor": 2
}
